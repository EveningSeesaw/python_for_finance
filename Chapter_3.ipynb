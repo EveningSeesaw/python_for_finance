{
 "cells": [
  {
   "cell_type": "code",
   "execution_count": null,
   "id": "7f01194e",
   "metadata": {},
   "outputs": [
    {
     "name": "stdout",
     "output_type": "stream",
     "text": [
      "['stocks', 'bonds', 'real estate', 'cash']\n"
     ]
    }
   ],
   "source": [
    "# Create a list named 'assets' with a collection of strings.\n",
    "# Lists are ordered and can contain items of any data type.\n",
    "assets = [\"stocks\", \"bonds\", \"real estate\", \"cash\"]\n",
    "print(assets)"
   ]
  },
  {
   "cell_type": "code",
   "execution_count": null,
   "id": "b168cbbb",
   "metadata": {},
   "outputs": [
    {
     "name": "stdout",
     "output_type": "stream",
     "text": [
      "stocks\n",
      "real estate\n"
     ]
    }
   ],
   "source": [
    "# Access items in the list using an index.\n",
    "# Python uses 0-based indexing, so assets[0] is the first item.\n",
    "print(assets[0])\n",
    "# Negative indices count from the end of the list.\n",
    "# assets[-1] is the last item, and assets[-2] is the second-to-last.\n",
    "print(assets[-2])"
   ]
  },
  {
   "cell_type": "code",
   "execution_count": null,
   "id": "b8ece898",
   "metadata": {},
   "outputs": [
    {
     "name": "stdout",
     "output_type": "stream",
     "text": [
      "['stocks', 'bonds', 'real_est', 'cash']\n"
     ]
    }
   ],
   "source": [
    "# Lists are mutable, which means you can change their contents.\n",
    "# Here, we update the second-to-last item.\n",
    "assets[-2] = \"real_est\"\n",
    "print(assets)"
   ]
  },
  {
   "cell_type": "code",
   "execution_count": null,
   "id": "d7be3e67",
   "metadata": {},
   "outputs": [
    {
     "name": "stdout",
     "output_type": "stream",
     "text": [
      "commodities\n"
     ]
    }
   ],
   "source": [
    "# Use the .append() method to add an item to the end of the list.\n",
    "assets.append(\"commodities\")\n",
    "# Print the last item to show that it was added.\n",
    "print(assets[-1])"
   ]
  },
  {
   "cell_type": "code",
   "execution_count": null,
   "id": "935ec1e2",
   "metadata": {},
   "outputs": [
    {
     "name": "stdout",
     "output_type": "stream",
     "text": [
      "['EFTs', 'stocks', 'bonds', 'real_est', 'cash', 'commodities']\n"
     ]
    }
   ],
   "source": [
    "# Use the .insert() method to add an item at a specific index.\n",
    "# The first argument is the index, and the second is the item to add.\n",
    "assets.insert(0, \"EFTs\")\n",
    "print(assets)"
   ]
  },
  {
   "cell_type": "code",
   "execution_count": null,
   "id": "4087a554",
   "metadata": {},
   "outputs": [
    {
     "name": "stdout",
     "output_type": "stream",
     "text": [
      "['stocks', 'bonds', 'real_est', 'cash', 'commodities']\n"
     ]
    }
   ],
   "source": [
    "# Use the .remove() method to remove a specific item by its value.\n",
    "assets.remove(\"EFTs\")\n",
    "print(assets)"
   ]
  },
  {
   "cell_type": "code",
   "execution_count": null,
   "id": "1a1616c8",
   "metadata": {},
   "outputs": [
    {
     "name": "stdout",
     "output_type": "stream",
     "text": [
      "stocks\n",
      "bonds\n",
      "real_est\n",
      "cash\n",
      "commodities\n"
     ]
    }
   ],
   "source": [
    "# A common way to loop through a list is with a 'for' loop.\n",
    "# It assigns each item in 'assets' to the temporary variable 'asset' one by one.\n",
    "for asset in assets:\n",
    "    print(asset)"
   ]
  },
  {
   "cell_type": "code",
   "execution_count": null,
   "id": "1fdd25f7",
   "metadata": {},
   "outputs": [
    {
     "name": "stdout",
     "output_type": "stream",
     "text": [
      "[110.0, 132.0, 88.0, 165.0]\n"
     ]
    }
   ],
   "source": [
    "prices = [100, 120, 80, 150]\n",
    "returns = [] \n",
    "\n",
    "for price in prices:\n",
    "    # Calculate the return and use round() to handle potential floating-point errors.\n",
    "    returns.append(round(price * 1.1,2))\n",
    "\n",
    "print(returns)"
   ]
  },
  {
   "cell_type": "code",
   "execution_count": null,
   "id": "d4478af2",
   "metadata": {},
   "outputs": [
    {
     "name": "stdout",
     "output_type": "stream",
     "text": [
      "4\n",
      "Index 0 : EFTs\n",
      "Index 1 : bonds\n",
      "Index 2 : real estate\n",
      "Index 3 : cash\n"
     ]
    }
   ],
   "source": [
    "# This shows how to get the length of a list and loop through it using indices.\n",
    "assets = [\"EFTs\", \"bonds\", \"real estate\", \"cash\"]\n",
    "# The len() function returns the number of items in the list.\n",
    "print(len(assets))\n",
    "\n",
    "# Use the length with range() to get indices (0, 1, 2, 3).\n",
    "for i in range(len(assets)):\n",
    "    # Use the index 'i' to access both the position and the item.\n",
    "    print(\"Index\", i, \":\", assets[i])"
   ]
  },
  {
   "cell_type": "code",
   "execution_count": null,
   "id": "e5f2e13b",
   "metadata": {},
   "outputs": [
    {
     "name": "stdout",
     "output_type": "stream",
     "text": [
      "{'stocks': 'Investment in company shares', 'bonds': 'Investment in debt securities', 'real estate': 'Investment in Real estate', 'cash': 'investment in cash or near-cash items'}\n",
      "Investment in company shares\n"
     ]
    }
   ],
   "source": [
    "# Dictionaries store data in key-value pairs. Keys must be unique and immutable.\n",
    "# This dictionary maps asset names (keys) to their descriptions (values).\n",
    "asset_info = {\"stocks\": \"Investment in company shares\",\n",
    "              \"bonds\": \"Investment in debt securities\",\n",
    "              \"real estate\": \"Investment in Real estate\",\n",
    "              \"cash\":\"investment in cash or near-cash items\"}\n",
    "\n",
    "print(asset_info)\n",
    "# Access a value by using its key in square brackets.\n",
    "print(asset_info[\"stocks\"])"
   ]
  },
  {
   "cell_type": "code",
   "execution_count": null,
   "id": "401825e4",
   "metadata": {},
   "outputs": [
    {
     "name": "stdout",
     "output_type": "stream",
     "text": [
      "Investment in Company stakes\n"
     ]
    }
   ],
   "source": [
    "# Dictionaries are mutable, so you can change the value associated with a key.\n",
    "# This updates the description for the \"stocks\" key.\n",
    "asset_info[\"stocks\"] = \"Investment in Company stakes\"\n",
    "print(asset_info[\"stocks\"])"
   ]
  },
  {
   "cell_type": "code",
   "execution_count": null,
   "id": "bf4a97c0",
   "metadata": {},
   "outputs": [
    {
     "name": "stdout",
     "output_type": "stream",
     "text": [
      "{'stocks': 'Investment in Company stakes', 'bonds': 'Investment in debt securities', 'real estate': 'Investment in Real estate', 'cash': 'investment in cash or near-cash items', 'commodities': 'investment in commodities'}\n"
     ]
    }
   ],
   "source": [
    "# Add a new key-value pair by assigning a value to a new key.\n",
    "asset_info[\"commodities\"] = \"investment in commodities\"\n",
    "print(asset_info)"
   ]
  },
  {
   "cell_type": "code",
   "execution_count": null,
   "id": "54eb0299",
   "metadata": {},
   "outputs": [
    {
     "name": "stdout",
     "output_type": "stream",
     "text": [
      "stocks\n",
      "Investment in Company stakes\n",
      "bonds\n",
      "Investment in debt securities\n",
      "real estate\n",
      "Investment in Real estate\n",
      "cash\n",
      "investment in cash or near-cash items\n",
      "commodities\n",
      "investment in commodities\n"
     ]
    }
   ],
   "source": [
    "# Loop through a dictionary to print both keys and values.\n",
    "# Iterating over a dictionary by default gives you the keys.\n",
    "for key in asset_info:\n",
    "    print(key)\n",
    "    # Use the key to access and print the corresponding value.\n",
    "    print(asset_info[key])"
   ]
  },
  {
   "cell_type": "code",
   "execution_count": null,
   "id": "95404e63",
   "metadata": {},
   "outputs": [
    {
     "name": "stdout",
     "output_type": "stream",
     "text": [
      "Investment in Company stakes\n",
      "Investment in debt securities\n",
      "Investment in Real estate\n",
      "investment in cash or near-cash items\n",
      "investment in commodities\n"
     ]
    }
   ],
   "source": [
    "# Use the .values() method to loop through only the values of a dictionary.\n",
    "for value in asset_info.values():\n",
    "    print(value)"
   ]
  },
  {
   "cell_type": "code",
   "execution_count": null,
   "id": "f22ca17a",
   "metadata": {},
   "outputs": [
    {
     "name": "stdout",
     "output_type": "stream",
     "text": [
      "Yes\n"
     ]
    }
   ],
   "source": [
    "# This is an example of a nested dictionary, which is a dictionary inside another dictionary.\n",
    "my_portfolio = {\n",
    "    \"APPL\":{\n",
    "        \"information\": {\n",
    "            \"common_name\": \"Apple\",\n",
    "            \"market_is_open\": \"Yes\",\n",
    "            \"currency\": \"dollar\",\n",
    "        }, \n",
    "        \"quantity\": 24,\n",
    "        \"current_price\": 165.45,\n",
    "        \"last_5_days_price\": [160.25, 163.87, 161.58, 164.01, 165.45]\n",
    "    }\n",
    "}\n",
    " \n",
    "# Access nested data by chaining key lookups.\n",
    "print(my_portfolio[\"APPL\"][\"information\"][\"market_is_open\"])"
   ]
  },
  {
   "cell_type": "code",
   "execution_count": null,
   "id": "1ecf54fd",
   "metadata": {},
   "outputs": [
    {
     "name": "stdout",
     "output_type": "stream",
     "text": [
      "[542, 2, 3]\n"
     ]
    }
   ],
   "source": [
    "# This demonstrates a common pitfall: assigning a list creates an alias, not a copy.\n",
    "list1 = [1, 2, 3]\n",
    "list2 = []\n",
    "\n",
    "# list2 now points to the SAME list as list1 in memory.\n",
    "list2 = list1\n",
    "# Changing an item in list2 also changes it in list1.\n",
    "list2[0] = 542\n",
    "\n",
    "# This will print the modified list from the perspective of list1.\n",
    "print(list1)"
   ]
  },
  {
   "cell_type": "code",
   "execution_count": null,
   "id": "a47d43eb",
   "metadata": {},
   "outputs": [
    {
     "name": "stdout",
     "output_type": "stream",
     "text": [
      "{'BTC': {}, 'ETH': {}}\n"
     ]
    }
   ],
   "source": [
    "#Practice\n",
    "\n",
    "transactions = [\n",
    "    {\n",
    "        \"symbol\": \"BTC\",\n",
    "        \"type\": \"buy\",\n",
    "        \"quantity\": 0.7,\n",
    "        \"price\": 27090.4,\n",
    "        \"date\": \"2022-03-07\",\n",
    "    },\n",
    "    {\n",
    "        \"symbol\": \"BTC\",\n",
    "        \"type\": \"sell\",\n",
    "        \"quantity\": 0.1,\n",
    "        \"price\": 26561.4,\n",
    "        \"date\": \"2022-04-12\",\n",
    "    },\n",
    "    {\n",
    "        \"symbol\": \"BTC\",\n",
    "        \"type\": \"buy\",\n",
    "        \"quantity\": 0.4,\n",
    "        \"price\": 28090.4,\n",
    "        \"date\": \"2022-05-21\",\n",
    "    },\n",
    "    {\n",
    "        \"symbol\": \"BTC\",\n",
    "        \"type\": \"buy\",\n",
    "        \"quantity\": 0.3,\n",
    "        \"price\": 25090.4,\n",
    "        \"date\": \"2022-06-02\",\n",
    "    },\n",
    "    {\n",
    "        \"symbol\": \"BTC\",\n",
    "        \"type\": \"sell\",\n",
    "        \"quantity\": 0.5,\n",
    "        \"price\": 32034.67,\n",
    "        \"date\": \"2022-06-29\",\n",
    "    },\n",
    "    {\n",
    "        \"symbol\": \"ETH\",\n",
    "        \"type\": \"buy\",\n",
    "        \"quantity\": 6,\n",
    "        \"price\": 1754,\n",
    "        \"date\": \"2022-05-21\",\n",
    "    },\n",
    "    {\n",
    "        \"symbol\": \"ETH\",\n",
    "        \"type\": \"buy\",\n",
    "        \"quantity\": 2,\n",
    "        \"price\": 1950,\n",
    "        \"date\": \"2022-06-02\",\n",
    "    },\n",
    "    {\n",
    "        \"symbol\": \"ETH\",\n",
    "        \"type\": \"sell\",\n",
    "        \"quantity\": 3,\n",
    "        \"price\": 2100.67,\n",
    "        \"date\": \"2022-06-29\",\n",
    "    },\n",
    "]\n",
    "\n",
    "\n",
    "portfolio = {}\n",
    "# Loop through each transaction to build the initial structure of the portfolio dictionary.\n",
    "for transaction in transactions:\n",
    "    symbol = transaction[\"symbol\"]\n",
    "    # If the symbol is not yet a key in the portfolio, add it with an empty dictionary as its value.\n",
    "    if symbol not in portfolio:\n",
    "        portfolio[symbol] = {}\n",
    "\n",
    "print(portfolio)"
   ]
  },
  {
   "cell_type": "code",
   "execution_count": null,
   "id": "a6f0a7c5",
   "metadata": {},
   "outputs": [
    {
     "name": "stdout",
     "output_type": "stream",
     "text": [
      "{'BTC': {'quantity': 0.8}, 'ETH': {'quantity': 5}}\n"
     ]
    }
   ],
   "source": [
    "# Loop through the transactions again to calculate the total quantity of each asset.\n",
    "for transaction in transactions:\n",
    "    symbol = transaction[\"symbol\"]\n",
    "    # Check if the \"quantity\" key exists for this symbol. If not, initialize it to 0.\n",
    "    if \"quantity\" not in portfolio[symbol]:\n",
    "        portfolio[symbol][\"quantity\"] = 0\n",
    "    # Add or subtract the quantity based on the transaction type ('buy' or 'sell').\n",
    "    if transaction[\"type\"] == \"buy\":\n",
    "        portfolio[symbol][\"quantity\"] += transaction[\"quantity\"]\n",
    "    elif transaction[\"type\"] == \"sell\":\n",
    "        portfolio[symbol][\"quantity\"] -= transaction[\"quantity\"]\n",
    "\n",
    "print(portfolio)"
   ]
  },
  {
   "cell_type": "code",
   "execution_count": null,
   "id": "01737afa",
   "metadata": {},
   "outputs": [
    {
     "name": "stdout",
     "output_type": "stream",
     "text": [
      "{'BTC': {'quantity': 0.8, 'pnl': -9726.56}, 'ETH': {'quantity': 5, 'pnl': -2424}}\n"
     ]
    }
   ],
   "source": [
    "# This code calculates the Profit and Loss (PnL) for each asset.\n",
    "today_prices = {\"BTC\": 35000, \"ETH\": 2400}\n",
    "\n",
    "# Loop through the portfolio dictionary, accessing both keys (symbol) and values (data).\n",
    "for symbol, data in portfolio.items():\n",
    "    # Calculate the current value of the asset based on today's price.\n",
    "    current_value = data[\"quantity\"] * today_prices[symbol]\n",
    "    \n",
    "    # Calculate total cost using a list comprehension to sum up all 'buy' transaction costs.\n",
    "    total_spent = sum([t[\"price\"] * t[\"quantity\"] for t in transactions if t[\"symbol\"] == symbol and t[\"type\"] == \"buy\"])\n",
    "    \n",
    "    # Calculate PnL and round to two decimal places, then add it to the portfolio data.\n",
    "    data[\"pnl\"] = round(current_value - total_spent, 2)\n",
    "\n",
    "print(portfolio)"
   ]
  },
  {
   "cell_type": "code",
   "execution_count": null,
   "id": "2e1c6835",
   "metadata": {},
   "outputs": [
    {
     "name": "stdout",
     "output_type": "stream",
     "text": [
      "{'BTC': {'quantity': 0.8, 'pnl': -9726.56, 'avg_price': 26947.54}, 'ETH': {'quantity': 5, 'pnl': -2424, 'avg_price': 1803.0}}\n"
     ]
    }
   ],
   "source": [
    "# This code calculates the average purchase price for each asset.\n",
    "for symbol in portfolio:\n",
    "    # Use a list comprehension to get the total quantity from 'buy' transactions.\n",
    "    total_quantity_bought = sum([t[\"quantity\"] for t in transactions if t[\"symbol\"] == symbol and t[\"type\"] == \"buy\"])\n",
    "    # Use another list comprehension to get the total money spent on 'buy' transactions.\n",
    "    total_spent = sum([t[\"price\"] * t[\"quantity\"] for t in transactions if t[\"symbol\"] == symbol and t[\"type\"] == \"buy\"])\n",
    "    \n",
    "    # Calculate the average price.\n",
    "    avg_price = total_spent / total_quantity_bought\n",
    "    \n",
    "    # Add the rounded average price to the portfolio dictionary.\n",
    "    portfolio[symbol][\"avg_price\"] = round(avg_price, 2)\n",
    "\n",
    "print(portfolio)"
   ]
  },
  {
   "cell_type": "code",
   "execution_count": null,
   "id": "b45211a8",
   "metadata": {},
   "outputs": [],
   "source": [
    "# Reference for Lists\n",
    "# A simple list (like your stock watchlist)\n",
    "watchlist = [\"AAPL\", \"MSFT\", \"TSLA\", \"GOOGL\"]\n",
    "\n",
    "# A list of lists (like a portfolio with multiple accounts)\n",
    "# This is simple but hard to read, as you have to remember which index means what.\n",
    "portfolio = [\n",
    "    [\"AAPL\", 100, 150.00],   # [stock, shares, price]\n",
    "    [\"MSFT\", 50, 300.00],\n",
    "    [\"TSLA\", 25, 700.00]\n",
    "]"
   ]
  },
  {
   "cell_type": "code",
   "execution_count": null,
   "id": "9be62cf3",
   "metadata": {},
   "outputs": [],
   "source": [
    "# Reference for Dictionaries\n",
    "# A simple dictionary (like a company profile)\n",
    "# Dictionaries use descriptive keys, making the data self-explanatory.\n",
    "company = {\n",
    "    \"name\": \"Apple Inc.\",\n",
    "    \"ticker\": \"AAPL\", \n",
    "    \"sector\": \"Technology\"\n",
    "}\n",
    "\n",
    "# A dictionary of dictionaries (like multiple companies' data)\n",
    "companies = {\n",
    "    \"AAPL\": {\n",
    "        \"name\": \"Apple Inc.\",\n",
    "        \"price\": 150.00,\n",
    "        \"dividend_yield\": 0.006\n",
    "    },\n",
    "    \"MSFT\": {\n",
    "        \"name\": \"Microsoft Corp.\",\n",
    "        \"price\": 300.00, \n",
    "        \"dividend_yield\": 0.011\n",
    "    }\n",
    "}"
   ]
  },
  {
   "cell_type": "code",
   "execution_count": null,
   "id": "6b14b707",
   "metadata": {},
   "outputs": [],
   "source": [
    "# List of Lists\n",
    "# This shows how to access data from a list of lists.\n",
    "portfolio = [\n",
    "    [\"AAPL\", 100, 145.50],\n",
    "    [\"MSFT\", 50, 295.75], \n",
    "    [\"TSLA\", 25, 685.00]\n",
    "]\n",
    "\n",
    "# You have to use index numbers to get the data, which is less readable.\n",
    "aapl_position = portfolio[0]\n",
    "print(f\"AAPL position: {aapl_position}\")\n",
    "print(f\"AAPL shares: {aapl_position[1]}\")"
   ]
  },
  {
   "cell_type": "code",
   "execution_count": null,
   "id": "6b99793d",
   "metadata": {},
   "outputs": [],
   "source": [
    "# List of Dictionaries\n",
    "# This is a much clearer way to store and access structured data.\n",
    "# Each item in the list is a dictionary with descriptive keys.\n",
    "portfolio = [\n",
    "    {\"ticker\": \"AAPL\", \"shares\": 100, \"avg_cost\": 145.50},\n",
    "    {\"ticker\": \"MSFT\", \"shares\": 50, \"avg_cost\": 295.75},\n",
    "    {\"ticker\": \"TSLA\", \"shares\": 25, \"avg_cost\": 685.00}\n",
    "]\n",
    "\n",
    "# Accessing data is now much easier to understand because of the keys.\n",
    "print(f\"AAPL shares: {portfolio[0]['shares']}\")"
   ]
  },
  {
   "cell_type": "code",
   "execution_count": null,
   "id": "2d60a181",
   "metadata": {},
   "outputs": [],
   "source": [
    "# Dictionary of Dictionaries\n",
    "# This is an even more powerful way to organize data,\n",
    "# especially when you need to quickly look up an item by a unique key (like a stock ticker).\n",
    "stock_database = {\n",
    "    \"AAPL\": {\n",
    "        \"name\": \"Apple Inc.\",\n",
    "        \"price\": 150.25,\n",
    "        \"dividend\": 0.96,\n",
    "        \"sector\": \"Technology\"\n",
    "    },\n",
    "    \"MSFT\": {\n",
    "        \"name\": \"Microsoft Corporation\",\n",
    "        \"price\": 302.15,\n",
    "        \"dividend\": 2.72,\n",
    "        \"sector\": \"Technology\"\n",
    "    }\n",
    "}\n",
    "\n",
    "# Accessing data is very intuitive and efficient.\n",
    "print(f\"Microsoft price: ${stock_database['MSFT']['price']}\")\n",
    "print(f\"Apple dividend: ${stock_database['AAPL']['dividend']}\")"
   ]
  }
 ],
 "metadata": {
  "kernelspec": {
   "display_name": "base",
   "language": "python",
   "name": "python3"
  },
  "language_info": {
   "codemirror_mode": {
    "name": "ipython",
    "version": 3
   },
   "file_extension": ".py",
   "mimetype": "text/x-python",
   "name": "python",
   "nbconvert_exporter": "python",
   "pygments_lexer": "ipython3",
   "version": "3.13.5"
  }
 },
 "nbformat": 4,
 "nbformat_minor": 5
}
