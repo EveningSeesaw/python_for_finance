{
 "cells": [
  {
   "cell_type": "code",
   "execution_count": 1,
   "id": "e6efa63a",
   "metadata": {},
   "outputs": [
    {
     "name": "stdout",
     "output_type": "stream",
     "text": [
      "variables, types and operations\n"
     ]
    }
   ],
   "source": [
    "print('variables, types and operations')\n"
   ]
  },
  {
   "cell_type": "code",
   "execution_count": 2,
   "id": "fe49de51",
   "metadata": {},
   "outputs": [],
   "source": [
    "apple_stock_number = 5\n"
   ]
  },
  {
   "cell_type": "code",
   "execution_count": 3,
   "id": "191e3763",
   "metadata": {},
   "outputs": [
    {
     "name": "stdout",
     "output_type": "stream",
     "text": [
      "5\n"
     ]
    }
   ],
   "source": [
    "print(apple_stock_number)  "
   ]
  },
  {
   "cell_type": "code",
   "execution_count": 4,
   "id": "e5cb41ea",
   "metadata": {},
   "outputs": [
    {
     "name": "stdout",
     "output_type": "stream",
     "text": [
      "7\n"
     ]
    }
   ],
   "source": [
    "apple_stock_number = 7\n",
    "print(apple_stock_number)"
   ]
  },
  {
   "cell_type": "code",
   "execution_count": 5,
   "id": "ebd6bb24",
   "metadata": {},
   "outputs": [
    {
     "name": "stdout",
     "output_type": "stream",
     "text": [
      "3\n"
     ]
    }
   ],
   "source": [
    "microsoft_stock_number = 3\n",
    "print(microsoft_stock_number)"
   ]
  },
  {
   "cell_type": "code",
   "execution_count": 6,
   "id": "123b1534",
   "metadata": {},
   "outputs": [
    {
     "name": "stdout",
     "output_type": "stream",
     "text": [
      "<class 'int'>\n",
      "<class 'float'>\n",
      "<class 'str'>\n",
      "<class 'bool'>\n"
     ]
    }
   ],
   "source": [
    " # Displays class\n",
    "int_var = 5\n",
    "float_var = 5.7\n",
    "str_var = \"hello\"\n",
    "bool_var = True\n",
    "\n",
    "print(type(int_var))\n",
    "print(type(float_var))\n",
    "print(type(str_var))\n",
    "print(type(bool_var))"
   ]
  },
  {
   "cell_type": "code",
   "execution_count": 7,
   "id": "ce0fc344",
   "metadata": {},
   "outputs": [
    {
     "name": "stdout",
     "output_type": "stream",
     "text": [
      "-5\n",
      "<class 'str'>\n"
     ]
    }
   ],
   "source": [
    "int_var = -5\n",
    "str_var = str(-5)\n",
    "print(str_var) # Displays \"-5\" instead of -5, and str_var will now behave as a string\n",
    "print(type(str_var))"
   ]
  },
  {
   "cell_type": "code",
   "execution_count": 8,
   "id": "813e44d8",
   "metadata": {},
   "outputs": [
    {
     "name": "stdout",
     "output_type": "stream",
     "text": [
      "5\n",
      "5\n",
      "6\n",
      "2.0\n",
      "1\n"
     ]
    }
   ],
   "source": [
    "# Addition\n",
    "result = 2 + 3\n",
    "print(result)  # displays 5\n",
    "\n",
    "# Subtraction\n",
    "result = 10 - 5\n",
    "print(result)  # displays 5\n",
    "\n",
    "# Multiplication\n",
    "result = 2 * 3\n",
    "print(result)  # displays 6\n",
    "\n",
    "# Division\n",
    "result = 10 / 5\n",
    "print(result)  # displays 2.0 (result of division is a float)\n",
    "\n",
    "# Modulo\n",
    "result = 7 % 3\n",
    "print(result)  # displays 1 (7 is 3*2 + 1)"
   ]
  },
  {
   "cell_type": "code",
   "execution_count": 9,
   "id": "60503218",
   "metadata": {},
   "outputs": [
    {
     "name": "stdout",
     "output_type": "stream",
     "text": [
      "HelloWorld\n",
      "Hello World\n",
      "HelloHello\n"
     ]
    }
   ],
   "source": [
    "word1 = \"Hello\"\n",
    "word2 = \"World\"\n",
    "result = word1 + word2\n",
    "print(result)  # displays \"HelloWorld\"\n",
    "result = word1 + \" \" + word2\n",
    "print(result)  # displays \"Hello World\"\n",
    "print(word1 * 2)  # displays \"HelloHello\""
   ]
  },
  {
   "cell_type": "code",
   "execution_count": 10,
   "id": "438edbb7",
   "metadata": {},
   "outputs": [
    {
     "name": "stdout",
     "output_type": "stream",
     "text": [
      "Total value of the current Apple stocks in John’s portfolio: $2970.00\n",
      "Average purchase price of John’s Apple stocks: $1282.50\n",
      "Total capital gain if John sells all his Apple stocks now: $920.00\n",
      "Taxes in France on his capital gains: $276.00\n",
      "Taxes in Belgium on his capital gains: $168.00\n"
     ]
    }
   ],
   "source": [
    "stock_value_now = 135  # current stock value\n",
    "stocks_bought_first = 20\n",
    "price_first = 60  # price at which the first set of stocks were bought\n",
    "stocks_bought_second = 10\n",
    "price_second = 145  # price at which the second set of stocks were bought\n",
    "stocks_sold = 8\n",
    "price_sold = 120  # price at which stocks were sold\n",
    "\n",
    "\n",
    "#Calculate and display the total value of the current Apple stocks\n",
    "total_stocks = stocks_bought_first + stocks_bought_second - stocks_sold\n",
    "total_value = stock_value_now * total_stocks\n",
    "print(f\"Total value of the current Apple stocks in John’s portfolio: ${total_value:.2f}\")\n",
    "\n",
    "#Calculate and display the average purchase price\n",
    "purchase_first = stocks_bought_first * price_first\n",
    "purchase_second = stocks_bought_second * price_second\n",
    "average_purchase = purchase_first + purchase_second / stocks_bought_first + stocks_bought_second\n",
    "print(f\"Average purchase price of John’s Apple stocks: ${average_purchase:.2f}\")\n",
    "\n",
    "#Calculate and display the potential total capital gain\n",
    "pnl_first = (stock_value_now - price_first) * stocks_bought_first\n",
    "pnl_second = (stock_value_now - price_second) * stocks_bought_second\n",
    "pnl_sold = (price_sold - price_first) * stocks_sold\n",
    "total_capital_gain = pnl_first + pnl_second - pnl_sold\n",
    "print(f\"Total capital gain if John sells all his Apple stocks now: ${total_capital_gain:.2f}\")\n",
    "\n",
    "#Calculate and display the taxes on capital gains in France and Belgium\n",
    "# France, the tax rate on capital gains is 30%. In Belgium, capital gains are tax-exempt up to $500, and a 40% tax rate applies beyond this threshold\n",
    "tax_rate_france = 0.30\n",
    "tax_france = total_capital_gain * tax_rate_france\n",
    "tax_exempt_belgium = 500\n",
    "tax_rate_belgium = 0.40\n",
    "tax_belgium = max(total_capital_gain - tax_exempt_belgium, 0) * tax_rate_belgium\n",
    "print(f\"Taxes in France on his capital gains: ${tax_france:.2f}\")\n",
    "print(f\"Taxes in Belgium on his capital gains: ${tax_belgium:.2f}\")\n",
    "\n"
   ]
  },
  {
   "cell_type": "code",
   "execution_count": null,
   "id": "d0e469c5",
   "metadata": {},
   "outputs": [],
   "source": []
  }
 ],
 "metadata": {
  "kernelspec": {
   "display_name": "base",
   "language": "python",
   "name": "python3"
  },
  "language_info": {
   "codemirror_mode": {
    "name": "ipython",
    "version": 3
   },
   "file_extension": ".py",
   "mimetype": "text/x-python",
   "name": "python",
   "nbconvert_exporter": "python",
   "pygments_lexer": "ipython3",
   "version": "3.13.5"
  }
 },
 "nbformat": 4,
 "nbformat_minor": 5
}
