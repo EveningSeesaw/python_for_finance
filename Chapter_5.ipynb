{
 "cells": [
  {
   "cell_type": "code",
   "execution_count": 197,
   "id": "08ff23cf",
   "metadata": {},
   "outputs": [],
   "source": [
    "# Cell 1: Import the Pandas library\n",
    "# Pandas is the go-to library for financial data analysis in Python.\n",
    "# We import it and give it the alias 'pd' for convenience.\n",
    "import pandas as pd"
   ]
  },
  {
   "cell_type": "code",
   "execution_count": 198,
   "id": "c85a5a45",
   "metadata": {},
   "outputs": [
    {
     "name": "stdout",
     "output_type": "stream",
     "text": [
      "         date  close  volume\n",
      "0  2022-01-01 150.00    1000\n",
      "1  2022-01-02 152.00    1200\n",
      "2  2022-01-03 153.00    1300\n",
      "3  2022-01-04 154.00    1250\n"
     ]
    }
   ],
   "source": [
    "# Cell 2: Create a DataFrame and Display it\n",
    "# This is where we create a DataFrame, which is like a spreadsheet for financial data.\n",
    "# It's an efficient way to store and manipulate time-series data like stock prices and volume.\n",
    "data = {\n",
    "    \"date\": [\"2022-01-01\", \"2022-01-02\", \"2022-01-03\", \"2022-01-04\"],\n",
    "    \"close\": [150.0, 152.0, 153.0, 154.0],\n",
    "    \"volume\": [1000, 1200, 1300, 1250],\n",
    "}\n",
    "\n",
    "# The pd.DataFrame() function converts our dictionary into a DataFrame.\n",
    "market_data = pd.DataFrame(data)\n",
    "\n",
    "# Print the entire DataFrame to see its structure.\n",
    "print(market_data)"
   ]
  },
  {
   "cell_type": "code",
   "execution_count": 199,
   "id": "8177a08d",
   "metadata": {},
   "outputs": [
    {
     "name": "stdout",
     "output_type": "stream",
     "text": [
      "RangeIndex(start=0, stop=4, step=1)\n"
     ]
    }
   ],
   "source": [
    "# Cell 3: Accessing the Index\n",
    "# The index is the unique identifier for each row, similar to a serial number in a voucher.\n",
    "# By default, Pandas creates a numerical index starting from 0.\n",
    "print(market_data.index)"
   ]
  },
  {
   "cell_type": "code",
   "execution_count": 200,
   "id": "fdabc1ed",
   "metadata": {},
   "outputs": [
    {
     "name": "stdout",
     "output_type": "stream",
     "text": [
      "0   150.00\n",
      "1   152.00\n",
      "2   153.00\n",
      "3   154.00\n",
      "Name: close, dtype: float64\n"
     ]
    }
   ],
   "source": [
    "# Cell 4: Accessing a Single Column (Series)\n",
    "# A single column in a DataFrame is called a Series.\n",
    "# You can select a Series by putting the column name in brackets.\n",
    "print(market_data[\"close\"])"
   ]
  },
  {
   "cell_type": "code",
   "execution_count": 201,
   "id": "7f88a546",
   "metadata": {},
   "outputs": [
    {
     "name": "stdout",
     "output_type": "stream",
     "text": [
      "0   150.00\n",
      "1   152.00\n",
      "2   153.00\n",
      "3   154.00\n",
      "Name: close, dtype: float64\n"
     ]
    }
   ],
   "source": [
    "# Cell 5: Assigning a Series to a Variable\n",
    "# You can save a specific column to its own variable for easier use.\n",
    "# This is useful when you want to perform calculations on a single data point, like closing prices.\n",
    "close_column = market_data[\"close\"]\n",
    "print(close_column)"
   ]
  },
  {
   "cell_type": "code",
   "execution_count": 202,
   "id": "83eb7711",
   "metadata": {},
   "outputs": [
    {
     "name": "stdout",
     "output_type": "stream",
     "text": [
      "date      2022-01-01\n",
      "close         150.00\n",
      "volume          1000\n",
      "Name: 0, dtype: object\n"
     ]
    }
   ],
   "source": [
    "# Cell 6: Accessing a Single Row (iloc)\n",
    "# The .iloc[] accessor is used to select a row by its integer-based position (index).\n",
    "# This is like picking a specific entry from a ledger.\n",
    "first_row = market_data.iloc[0]\n",
    "print(first_row)"
   ]
  },
  {
   "cell_type": "code",
   "execution_count": 203,
   "id": "4150d95d",
   "metadata": {},
   "outputs": [
    {
     "name": "stdout",
     "output_type": "stream",
     "text": [
      "150.0\n"
     ]
    }
   ],
   "source": [
    "# Cell 7: Accessing a Specific Value\n",
    "# You can access a single data point by chaining the accessors.\n",
    "# Here, we get the 'close' price from the first row.\n",
    "first_close = market_data.iloc[0][\"close\"]\n",
    "print(first_close)"
   ]
  },
  {
   "cell_type": "code",
   "execution_count": 204,
   "id": "9eaa43b0",
   "metadata": {},
   "outputs": [
    {
     "name": "stdout",
     "output_type": "stream",
     "text": [
      "   volume  close\n",
      "0    1000 150.00\n",
      "1    1200 152.00\n",
      "2    1300 153.00\n",
      "3    1250 154.00\n"
     ]
    }
   ],
   "source": [
    "# Cell 8: Accessing Multiple Columns\n",
    "# You can select multiple columns by passing a list of column names in brackets.\n",
    "# This is useful for creating a sub-ledger with only the data you need for a specific analysis.\n",
    "close_volume_columns = market_data[['volume', 'close']]\n",
    "print(close_volume_columns)"
   ]
  },
  {
   "cell_type": "code",
   "execution_count": 205,
   "id": "28de4ee9",
   "metadata": {},
   "outputs": [
    {
     "name": "stdout",
     "output_type": "stream",
     "text": [
      "         date  close  volume\n",
      "2  2022-01-03 153.00    1300\n",
      "3  2022-01-04 154.00    1250\n"
     ]
    }
   ],
   "source": [
    "# Cell 9: Filtering Rows (Boolean Indexing)\n",
    "# This is a powerful feature for financial analysis, like finding trades that meet a certain criteria.\n",
    "# We create a condition (market_data['volume'] > 1210) that returns True or False for each row,\n",
    "# and then use that series of True/False values to filter the DataFrame.\n",
    "best_volume_rows = market_data.loc[market_data['volume'] > 1210]\n",
    "print(best_volume_rows)"
   ]
  },
  {
   "cell_type": "code",
   "execution_count": 206,
   "id": "0b0aa1d6",
   "metadata": {},
   "outputs": [
    {
     "name": "stdout",
     "output_type": "stream",
     "text": [
      "            time   open   high    low  close       volume    Volume MA\n",
      "0     1320240600  12.14  12.16  11.99  12.06 328255052.00 565663058.20\n",
      "1     1320327000  12.11  12.25  12.00  12.24 441524796.00 547110249.40\n",
      "2     1320413400  12.20  12.25  12.12  12.15 302228240.00 535440799.60\n",
      "3     1320676200  12.14  12.14  12.02  12.13 270274636.00 526828854.80\n",
      "4     1320762600  12.21  12.38  12.19  12.33 400439768.00 516566707.40\n",
      "...          ...    ...    ...    ...    ...          ...          ...\n",
      "2915  1686058200 179.97 180.12 177.43 179.21  64848374.00  58818603.75\n",
      "2916  1686144600 178.44 181.21 177.32 177.82  61944615.00  59649490.80\n",
      "2917  1686231000 177.90 180.84 177.46 180.57  50214881.00  59474009.80\n",
      "2918  1686317400 181.50 182.23 180.63 180.96  48899973.00  59443274.65\n",
      "2919  1686576600 181.27    NaN    NaN    NaN          NaN          NaN\n",
      "\n",
      "[2920 rows x 7 columns]\n"
     ]
    }
   ],
   "source": [
    "# Cell 10: Loading a CSV file\n",
    "# This cell loads a real-world financial dataset from a CSV file.\n",
    "# The 'market_data' variable now holds the data for Apple (AAPL).\n",
    "# NOTE: This code assumes the 'APPL_1D.csv' file is in the same directory.\n",
    "market_data = pd.read_csv(\"APPL_1D.csv\")\n",
    "close_data = market_data[\"close\"]\n",
    "print(market_data)"
   ]
  },
  {
   "cell_type": "code",
   "execution_count": 207,
   "id": "ddb01cf1",
   "metadata": {},
   "outputs": [
    {
     "name": "stdout",
     "output_type": "stream",
     "text": [
      "               time    open    high     low   close        volume    Volume MA\n",
      "count       2920.00 2920.00 2919.00 2919.00 2919.00       2919.00      2919.00\n",
      "mean  1503502927.40   59.74   60.38   59.07   59.75  200558014.51 202115717.49\n",
      "std    105701072.41   51.30   51.90   50.66   51.31  171035615.19 148989947.08\n",
      "min   1320240600.00    0.00   11.27   11.03   11.04   35195860.00  50684940.65\n",
      "25%   1412062200.00   21.83   22.09   21.62   21.85   91766241.00 101733696.10\n",
      "50%   1503451800.00   36.49   36.72   36.18   36.58  137148384.00 138776456.20\n",
      "75%   1595057400.00   93.83   94.55   92.27   93.84  247976166.00 250714603.00\n",
      "max   1686576600.00  182.63  184.95  180.63  180.96 1506113440.00 807241634.00\n"
     ]
    }
   ],
   "source": [
    "# Cell 11: Descriptive Statistics\n",
    "# The .describe() method provides a summary of key financial metrics for your data.\n",
    "# It's an essential first step in any financial audit or analysis.\n",
    "# It provides counts, mean, standard deviation, min, and max values.\n",
    "print(market_data.describe())"
   ]
  },
  {
   "cell_type": "code",
   "execution_count": 208,
   "id": "6ee26e03",
   "metadata": {},
   "outputs": [
    {
     "name": "stdout",
     "output_type": "stream",
     "text": [
      "count   2919.00\n",
      "mean      59.75\n",
      "std       51.31\n",
      "min       11.04\n",
      "25%       21.85\n",
      "50%       36.58\n",
      "75%       93.84\n",
      "max      180.96\n",
      "Name: close, dtype: float64\n"
     ]
    }
   ],
   "source": [
    "# Cell 12: Descriptive Statistics on a Single Column\n",
    "# You can also get a statistical summary for a single column.\n",
    "# This provides key metrics for only the closing prices.\n",
    "print(close_data.describe())"
   ]
  },
  {
   "cell_type": "code",
   "execution_count": 222,
   "id": "2cb735a4",
   "metadata": {},
   "outputs": [],
   "source": [
    "# Cell 13: Setting Display Options\n",
    "# This line of code formats the output so that all floating-point numbers\n",
    "# (like prices) are displayed with exactly two decimal places, which is standard for currency.\n",
    "pd.set_option('display.float_format', lambda x: '%.2f' % x)"
   ]
  },
  {
   "cell_type": "code",
   "execution_count": 210,
   "id": "e2a16ab4",
   "metadata": {},
   "outputs": [],
   "source": [
    "# Cell 14: Dropping a Column\n",
    "# This is how you clean your dataset by removing unnecessary information.\n",
    "# We use .drop() with axis=1 to specify that we are dropping a column.\n",
    "# The 'Volume MA' (Moving Average) column is removed here.\n",
    "market_data = market_data.drop(\"Volume MA\", axis=1)"
   ]
  },
  {
   "cell_type": "code",
   "execution_count": 211,
   "id": "ec2b86c5",
   "metadata": {},
   "outputs": [
    {
     "name": "stdout",
     "output_type": "stream",
     "text": [
      "            time   open  high  low  close  volume\n",
      "2919  1686576600 181.27   NaN  NaN    NaN     NaN\n"
     ]
    }
   ],
   "source": [
    "# Cell 15: Checking for Null Values\n",
    "# The .isnull() method checks for missing or empty values, which are common in financial data.\n",
    "# This helps us identify and handle missing data before doing any analysis.\n",
    "print(market_data.loc[market_data[\"close\"].isnull()])"
   ]
  },
  {
   "cell_type": "code",
   "execution_count": 212,
   "id": "b2973fdc",
   "metadata": {},
   "outputs": [],
   "source": [
    "# Cell 16: Dropping a Row\n",
    "# You can remove a specific row by its index using .drop().\n",
    "# Here, we drop the last row (index 2919) which likely contains missing data.\n",
    "market_data = market_data.drop(2919)"
   ]
  },
  {
   "cell_type": "code",
   "execution_count": 213,
   "id": "1efb8b36",
   "metadata": {},
   "outputs": [
    {
     "name": "stdout",
     "output_type": "stream",
     "text": [
      "0      2011-11-02 13:30:00\n",
      "1      2011-11-03 13:30:00\n",
      "2      2011-11-04 13:30:00\n",
      "3      2011-11-07 14:30:00\n",
      "4      2011-11-08 14:30:00\n",
      "               ...        \n",
      "2914   2023-06-05 13:30:00\n",
      "2915   2023-06-06 13:30:00\n",
      "2916   2023-06-07 13:30:00\n",
      "2917   2023-06-08 13:30:00\n",
      "2918   2023-06-09 13:30:00\n",
      "Name: time, Length: 2919, dtype: datetime64[ns]\n"
     ]
    }
   ],
   "source": [
    "# Cell 17: Converting to Datetime Objects\n",
    "# It's crucial to convert the 'time' column to a proper datetime format.\n",
    "# This allows for powerful time-series analysis like filtering by date, resampling, and plotting.\n",
    "market_data[\"time\"] = pd.to_datetime(market_data[\"time\"], unit='s')\n",
    "print(market_data[\"time\"])"
   ]
  },
  {
   "cell_type": "code",
   "execution_count": 214,
   "id": "6ed94d20",
   "metadata": {},
   "outputs": [],
   "source": [
    "# Cell 18: Setting the Index and Deleting the Column\n",
    "# We set the 'time' column as the DataFrame's index.\n",
    "# This allows us to easily slice the data based on dates, which is essential for financial analysis.\n",
    "# We then delete the original 'time' column to avoid redundancy.\n",
    "market_data = market_data.set_index(market_data['time'])\n",
    "del market_data['time']"
   ]
  },
  {
   "cell_type": "code",
   "execution_count": 215,
   "id": "0f190529",
   "metadata": {},
   "outputs": [
    {
     "name": "stdout",
     "output_type": "stream",
     "text": [
      "                      open   high    low  close      volume\n",
      "time                                                       \n",
      "2023-05-04 13:30:00 164.66 166.81 164.08 165.56 81235427.00\n",
      "                      open   high    low  close      volume\n",
      "time                                                       \n",
      "2023-03-01 14:30:00 146.63 147.03 144.81 145.11 55478991.00\n",
      "2023-03-02 14:30:00 144.18 146.51 143.70 145.71 52279761.00\n",
      "2023-03-03 14:30:00 147.84 150.90 147.13 150.82 70732297.00\n",
      "2023-03-06 14:30:00 153.57 156.08 153.25 153.62 87558028.00\n",
      "2023-03-07 14:30:00 153.49 153.82 150.92 151.39 56182028.00\n",
      "2023-03-08 14:30:00 152.60 153.26 151.62 152.66 47204791.00\n",
      "2023-03-09 14:30:00 153.35 154.32 150.02 150.38 53833582.00\n",
      "2023-03-10 14:30:00 150.00 150.73 147.41 148.29 68572400.00\n",
      "2023-03-13 13:30:00 147.60 152.93 147.50 150.26 84457122.00\n",
      "2023-03-14 13:30:00 151.07 153.19 149.89 152.38 73695893.00\n",
      "2023-03-15 13:30:00 150.98 153.03 149.71 152.78 77167866.00\n",
      "2023-03-16 13:30:00 151.95 156.24 151.43 155.63 76254419.00\n",
      "2023-03-17 13:30:00 155.86 156.52 154.07 154.79 98944633.00\n",
      "2023-03-20 13:30:00 154.86 157.60 153.94 157.18 73641415.00\n",
      "2023-03-21 13:30:00 157.10 159.18 156.32 159.06 73938285.00\n",
      "2023-03-22 13:30:00 159.08 161.92 157.59 157.61 75701811.00\n",
      "2023-03-23 13:30:00 158.61 161.33 157.46 158.71 67622060.00\n",
      "2023-03-24 13:30:00 158.64 160.12 157.63 160.03 59256343.00\n",
      "2023-03-27 13:30:00 159.72 160.55 157.65 158.06 52390266.00\n",
      "2023-03-28 13:30:00 157.75 158.27 155.76 157.43 45992152.00\n",
      "2023-03-29 13:30:00 159.15 160.83 159.13 160.55 51305691.00\n",
      "2023-03-30 13:30:00 161.31 162.25 161.05 162.14 49501689.00\n",
      "2023-03-31 13:30:00 162.22 164.77 161.69 164.67 68749792.00\n",
      "                      open   high    low  close      volume\n",
      "time                                                       \n",
      "2023-03-03 14:30:00 147.84 150.90 147.13 150.82 70732297.00\n",
      "2023-03-06 14:30:00 153.57 156.08 153.25 153.62 87558028.00\n",
      "2023-03-07 14:30:00 153.49 153.82 150.92 151.39 56182028.00\n",
      "2023-03-08 14:30:00 152.60 153.26 151.62 152.66 47204791.00\n",
      "2023-03-09 14:30:00 153.35 154.32 150.02 150.38 53833582.00\n",
      "2023-03-10 14:30:00 150.00 150.73 147.41 148.29 68572400.00\n",
      "2023-03-13 13:30:00 147.60 152.93 147.50 150.26 84457122.00\n",
      "2023-03-14 13:30:00 151.07 153.19 149.89 152.38 73695893.00\n",
      "2023-03-15 13:30:00 150.98 153.03 149.71 152.78 77167866.00\n"
     ]
    }
   ],
   "source": [
    "# Cell 19: Slicing Data by Time\n",
    "# Now that 'time' is the index, we can filter our data by date ranges.\n",
    "# This is an incredibly useful feature for analyzing specific periods of time.\n",
    "print(market_data.loc[\"2023-05-04\"])        # Get data for a specific day\n",
    "print(market_data.loc[\"2023-03\"])           # Get data for an entire month\n",
    "print(market_data.loc[\"2023-03-03\":\"2023-03-15\"]) # Get data for a date range"
   ]
  },
  {
   "cell_type": "code",
   "execution_count": 216,
   "id": "b159c1ed",
   "metadata": {},
   "outputs": [
    {
     "name": "stdout",
     "output_type": "stream",
     "text": [
      "time\n",
      "2011-11-02 13:30:00    12.10\n",
      "2011-11-03 13:30:00    12.17\n",
      "2011-11-04 13:30:00    12.18\n",
      "2011-11-07 14:30:00    12.14\n",
      "2011-11-08 14:30:00    12.27\n",
      "                       ...  \n",
      "2023-06-05 13:30:00   181.11\n",
      "2023-06-06 13:30:00   179.59\n",
      "2023-06-07 13:30:00   178.13\n",
      "2023-06-08 13:30:00   179.23\n",
      "2023-06-09 13:30:00   181.23\n",
      "Name: mean_open_close, Length: 2919, dtype: float64\n"
     ]
    }
   ],
   "source": [
    "# Cell 20: Creating a New Column for Mean Prices\n",
    "# This is a common practice in financial analysis to derive new metrics from existing data.\n",
    "# We calculate the average of the opening and closing prices and add it as a new column.\n",
    "market_data[\"mean_open_close\"] = (market_data[\"open\"] + market_data[\"close\"]) / 2\n",
    "print(market_data[\"mean_open_close\"])"
   ]
  },
  {
   "cell_type": "code",
   "execution_count": 217,
   "id": "01162a5e",
   "metadata": {},
   "outputs": [
    {
     "name": "stdout",
     "output_type": "stream",
     "text": [
      "Average Closing Prices: 59.75\n",
      "Median Closing Prices: 36.58\n",
      "Standard deviation of Closing Prices: 51.31\n"
     ]
    }
   ],
   "source": [
    "# Cell 21: Calculating Key Financial Metrics\n",
    "# This cell calculates important statistical measures for the closing prices.\n",
    "# Mean (Average) and Median are measures of central tendency.\n",
    "# Standard Deviation (std) is a key measure of a stock's volatility.\n",
    "mean_prices = market_data[\"close\"].mean()\n",
    "meadian_prices = market_data[\"close\"].median()\n",
    "std_prices = market_data[\"close\"].std()\n",
    "\n",
    "print(\"Average Closing Prices:\", round(mean_prices, 2))\n",
    "print(\"Median Closing Prices:\", round(meadian_prices, 2))\n",
    "print(\"Standard deviation of Closing Prices:\", round(std_prices, 2))"
   ]
  },
  {
   "cell_type": "code",
   "execution_count": 218,
   "id": "a484c334",
   "metadata": {},
   "outputs": [
    {
     "name": "stdout",
     "output_type": "stream",
     "text": [
      "time\n",
      "2011-11-02 13:30:00      NaN\n",
      "2011-11-03 13:30:00      NaN\n",
      "2011-11-04 13:30:00      NaN\n",
      "2011-11-07 14:30:00      NaN\n",
      "2011-11-08 14:30:00      NaN\n",
      "                       ...  \n",
      "2023-06-05 13:30:00   168.61\n",
      "2023-06-06 13:30:00   169.00\n",
      "2023-06-07 13:30:00   169.39\n",
      "2023-06-08 13:30:00   169.85\n",
      "2023-06-09 13:30:00   170.26\n",
      "Name: moving_average, Length: 2919, dtype: float64\n"
     ]
    }
   ],
   "source": [
    "# Cell 22: Calculating Moving Average\n",
    "# The moving average is a technical indicator that smooths out price data by creating a constantly updated average price.\n",
    "# It is used to identify trends and is a fundamental tool for traders and analysts.\n",
    "# The .rolling(50).mean() calculates a 50-period simple moving average.\n",
    "market_data[\"moving_average\"] = market_data[\"close\"].rolling(50).mean()\n",
    "print(market_data[\"moving_average\"])"
   ]
  },
  {
   "cell_type": "code",
   "execution_count": 219,
   "id": "879aab0e",
   "metadata": {},
   "outputs": [
    {
     "name": "stdout",
     "output_type": "stream",
     "text": [
      "time\n",
      "2011-11-02 13:30:00     NaN\n",
      "2011-11-03 13:30:00    0.01\n",
      "2011-11-04 13:30:00   -0.01\n",
      "2011-11-07 14:30:00   -0.00\n",
      "2011-11-08 14:30:00    0.02\n",
      "Name: daily_returns, dtype: float64\n"
     ]
    }
   ],
   "source": [
    "# Cell 23: Calculating Daily Returns\n",
    "# Daily returns measure the percentage change in price from one day to the next.\n",
    "# It's a fundamental metric for performance analysis.\n",
    "# The .pct_change() method is an efficient way to calculate this.\n",
    "market_data[\"daily_returns\"] = market_data[\"close\"].pct_change()\n",
    "print(market_data[\"daily_returns\"].head())"
   ]
  },
  {
   "cell_type": "code",
   "execution_count": 220,
   "id": "b3992775",
   "metadata": {},
   "outputs": [
    {
     "name": "stdout",
     "output_type": "stream",
     "text": [
      "time\n",
      "2011-11-02 13:30:00   NaN\n",
      "2011-11-03 13:30:00   NaN\n",
      "2011-11-04 13:30:00   NaN\n",
      "2011-11-07 14:30:00   NaN\n",
      "2011-11-08 14:30:00   NaN\n",
      "Name: volatility, dtype: float64\n"
     ]
    }
   ],
   "source": [
    "# Cell 24: Calculating Volatility\n",
    "# Volatility is a measure of risk. It quantifies how much a stock's price fluctuates.\n",
    "# We calculate a rolling 30-day standard deviation of the daily returns to measure short-term volatility.\n",
    "market_data[\"volatility\"] = market_data[\"daily_returns\"].rolling(window=30).std()\n",
    "\n",
    "print(market_data[\"volatility\"].head())"
   ]
  },
  {
   "cell_type": "code",
   "execution_count": 221,
   "id": "a3d79613",
   "metadata": {},
   "outputs": [
    {
     "name": "stdout",
     "output_type": "stream",
     "text": [
      "                     open  high   low  close       volume  mean_open_close  \\\n",
      "time                                                                         \n",
      "2017-01-27 14:30:00 28.49 28.54 28.37  28.45  82251776.00            28.47   \n",
      "2017-01-30 14:30:00 28.21 28.37 28.15  28.37 121510012.00            28.29   \n",
      "2017-01-31 14:30:00 28.26 28.32 28.14  28.31 196803972.00            28.29   \n",
      "2017-01-26 14:30:00 28.38 28.56 28.37  28.45 105350304.00            28.42   \n",
      "2017-03-16 13:30:00 32.97 33.04 32.86  32.96  76927992.00            32.97   \n",
      "...                   ...   ...   ...    ...          ...              ...   \n",
      "2011-12-08 14:30:00 11.88 12.01 11.85  11.86 376356580.00            11.87   \n",
      "2011-12-09 14:30:00 11.92 11.96 11.87  11.95 297143408.00            11.94   \n",
      "2011-12-12 14:30:00 11.89 11.96 11.82  11.89 301065820.00            11.89   \n",
      "2011-12-13 14:30:00 11.93 12.00 11.75  11.80 339137092.00            11.87   \n",
      "2011-12-14 14:30:00 11.74 11.76 11.46  11.54 407155068.00            11.64   \n",
      "\n",
      "                     moving_average  daily_returns  volatility  \n",
      "time                                                            \n",
      "2017-01-27 14:30:00           26.91           0.00        0.01  \n",
      "2017-01-30 14:30:00           26.97          -0.00        0.01  \n",
      "2017-01-31 14:30:00           27.03          -0.00        0.01  \n",
      "2017-01-26 14:30:00           26.83           0.00        0.01  \n",
      "2017-03-16 13:30:00           30.35           0.00        0.01  \n",
      "...                             ...            ...         ...  \n",
      "2011-12-08 14:30:00             NaN           0.00         NaN  \n",
      "2011-12-09 14:30:00             NaN           0.01         NaN  \n",
      "2011-12-12 14:30:00             NaN          -0.00         NaN  \n",
      "2011-12-13 14:30:00             NaN          -0.01         NaN  \n",
      "2011-12-14 14:30:00             NaN          -0.02         NaN  \n",
      "\n",
      "[2919 rows x 9 columns]\n",
      "                      open   high    low  close        volume  \\\n",
      "time                                                            \n",
      "2020-03-16 13:30:00  59.23  63.42  58.75  59.29  322423460.00   \n",
      "2013-01-24 14:30:00  14.09  14.26  13.79  13.80 1460853300.00   \n",
      "2019-01-03 14:30:00  34.64  35.06  34.16  34.21  365248780.00   \n",
      "2020-03-12 13:30:00  62.65  66.09  60.71  60.76  418474068.00   \n",
      "2020-09-03 13:30:00 124.83 126.72 118.52 118.89  257599640.00   \n",
      "...                    ...    ...    ...    ...           ...   \n",
      "2020-03-02 14:30:00  69.10  73.79  67.98  73.15  341397356.00   \n",
      "2020-03-24 13:30:00  57.86  60.63  57.35  60.43  287531092.00   \n",
      "2020-07-31 13:30:00 101.01 104.48  98.99 104.33  374295468.00   \n",
      "2020-03-13 13:30:00  64.84  68.52  61.92  68.04  370732128.00   \n",
      "2011-11-02 13:30:00  12.14  12.16  11.99  12.06  328255052.00   \n",
      "\n",
      "                     mean_open_close  moving_average  daily_returns  \\\n",
      "time                                                                  \n",
      "2020-03-16 13:30:00            59.26           74.49          -0.13   \n",
      "2013-01-24 14:30:00            13.94           16.36          -0.12   \n",
      "2019-01-03 14:30:00            34.43           44.11          -0.10   \n",
      "2020-03-12 13:30:00            61.71           74.84          -0.10   \n",
      "2020-09-03 13:30:00           121.86          104.42          -0.08   \n",
      "...                              ...             ...            ...   \n",
      "2020-03-02 14:30:00            71.12           74.96           0.09   \n",
      "2020-03-24 13:30:00            59.15           72.68           0.10   \n",
      "2020-07-31 13:30:00           102.67           87.99           0.10   \n",
      "2020-03-13 13:30:00            66.44           74.77           0.12   \n",
      "2011-11-02 13:30:00            12.10             NaN            NaN   \n",
      "\n",
      "                     volatility  \n",
      "time                             \n",
      "2020-03-16 13:30:00        0.05  \n",
      "2013-01-24 14:30:00        0.03  \n",
      "2019-01-03 14:30:00        0.03  \n",
      "2020-03-12 13:30:00        0.04  \n",
      "2020-09-03 13:30:00        0.03  \n",
      "...                         ...  \n",
      "2020-03-02 14:30:00        0.03  \n",
      "2020-03-24 13:30:00        0.06  \n",
      "2020-07-31 13:30:00        0.03  \n",
      "2020-03-13 13:30:00        0.05  \n",
      "2011-11-02 13:30:00         NaN  \n",
      "\n",
      "[2919 rows x 9 columns]\n"
     ]
    }
   ],
   "source": [
    "# Cell 25: Sorting the DataFrame\n",
    "# Sorting the DataFrame allows you to quickly find the days with the highest or lowest values for a given metric.\n",
    "# We sort by volatility to find the most and least volatile periods.\n",
    "# We also sort by daily returns to find the biggest gains and losses.\n",
    "print(market_data.sort_values(by=\"volatility\", ascending=True))\n",
    "print(market_data.sort_values(by=\"daily_returns\", ascending=True))"
   ]
  }
 ],
 "metadata": {
  "kernelspec": {
   "display_name": "base",
   "language": "python",
   "name": "python3"
  },
  "language_info": {
   "codemirror_mode": {
    "name": "ipython",
    "version": 3
   },
   "file_extension": ".py",
   "mimetype": "text/x-python",
   "name": "python",
   "nbconvert_exporter": "python",
   "pygments_lexer": "ipython3",
   "version": "3.13.5"
  }
 },
 "nbformat": 4,
 "nbformat_minor": 5
}
