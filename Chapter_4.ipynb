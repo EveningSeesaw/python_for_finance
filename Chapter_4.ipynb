{
 "cells": [
  {
   "cell_type": "code",
   "execution_count": 63,
   "id": "43a106a7",
   "metadata": {},
   "outputs": [],
   "source": [
    "# Cell 1: Compound Interest Function\n",
    "# This function calculates the compound interest earned on an investment.\n",
    "\n",
    "def compound_interest(principal, rate, time):\n",
    "    # The amount is the principal plus the accumulated interest.\n",
    "    # The `**` operator is used for exponentiation (raising a number to a power).\n",
    "    amount = principal * (1 + rate) ** time\n",
    "    \n",
    "    # Interest earned is the final amount minus the initial principal.\n",
    "    interest = amount - principal\n",
    "    \n",
    "    # The `return` keyword sends the calculated 'interest' value back to the caller.\n",
    "    return interest"
   ]
  },
  {
   "cell_type": "code",
   "execution_count": 64,
   "id": "2093acf2",
   "metadata": {},
   "outputs": [
    {
     "name": "stdout",
     "output_type": "stream",
     "text": [
      "The compound interest after 5 years is 216.65 $\n"
     ]
    }
   ],
   "source": [
    "# Cell 2: Using the Compound Interest Function\n",
    "# This cell demonstrates how to call the function and use its returned value.\n",
    "\n",
    "initial_investment = 1000\n",
    "interest_rate = 0.04\n",
    "years = 5\n",
    "\n",
    "# Call the function, passing in the defined variables as arguments.\n",
    "interest = compound_interest(initial_investment, interest_rate, years)\n",
    "\n",
    "# Use an f-string to print the result, formatted to two decimal places.\n",
    "print(f\"The compound interest after {years} years is {round(interest,2)} $\")"
   ]
  },
  {
   "cell_type": "code",
   "execution_count": 65,
   "id": "0cd4af96",
   "metadata": {},
   "outputs": [
    {
     "name": "stdout",
     "output_type": "stream",
     "text": [
      "Hello Thomas, you are 42 years old\n"
     ]
    }
   ],
   "source": [
    "# Cell 3: Using round() and int()\n",
    "# This code demonstrates how to format and convert a floating-point number.\n",
    "\n",
    "name = \"Thomas\"\n",
    "age = 41.75254\n",
    "\n",
    "# Use `round(age, 0)` to round the age to the nearest whole number.\n",
    "# Use `int()` to convert that result into an integer, removing any decimal part.\n",
    "# The f-string then embeds the final integer value into the printed text.\n",
    "print(f\"Hello {name}, you are {int(round(age, 0))} years old\")"
   ]
  },
  {
   "cell_type": "code",
   "execution_count": 66,
   "id": "2b747427",
   "metadata": {},
   "outputs": [
    {
     "name": "stdout",
     "output_type": "stream",
     "text": [
      "The compound interest over 5 years for an investment of 1000 € is 276.28 $.\n"
     ]
    }
   ],
   "source": [
    "# Cell 4: Functions with Default Parameters\n",
    "# This function has a default value for the 'rate' parameter.\n",
    "# If no rate is provided when the function is called, it will use 0.05.\n",
    "\n",
    "def compound_interest(principal, time, rate=0.05):\n",
    "    # The calculation remains the same.\n",
    "    amount = principal * (1 + rate) ** time\n",
    "    interest = amount - principal\n",
    "    return interest\n",
    "\n",
    "# This call uses the default rate of 0.05.\n",
    "investment = 1000\n",
    "years = 5\n",
    "earned_interest = compound_interest(investment, years)\n",
    "\n",
    "print(f\"The compound interest over {years} years for an investment of {investment} € is {round(earned_interest, 2)} $.\")"
   ]
  },
  {
   "cell_type": "code",
   "execution_count": 67,
   "id": "83079c22",
   "metadata": {},
   "outputs": [
    {
     "name": "stdout",
     "output_type": "stream",
     "text": [
      "The compound interest over 5 years for an investment of 1000$ at a rate of 7% is 402.55$.\n"
     ]
    }
   ],
   "source": [
    "# Cell 5: Overriding the Default Parameter\n",
    "# This cell shows how to provide a new value for the 'rate',\n",
    "# overriding the default value of 0.05.\n",
    "\n",
    "# The function is called with a specific rate (0.07).\n",
    "earned_interest = compound_interest(investment, years, 0.07)\n",
    "\n",
    "print(f\"The compound interest over {years} years for an investment of {investment}$ at a rate of 7% is {round(earned_interest, 2)}$.\")"
   ]
  },
  {
   "cell_type": "code",
   "execution_count": 68,
   "id": "d94f896c",
   "metadata": {},
   "outputs": [
    {
     "name": "stdout",
     "output_type": "stream",
     "text": [
      "The compound interest over 5 years for an investment of 1000 € is 402.55 €.\n"
     ]
    }
   ],
   "source": [
    "# Cell 6: Using Keyword Arguments\n",
    "# This demonstrates calling a function using keyword arguments.\n",
    "# This makes the code more readable by explicitly naming the arguments.\n",
    "\n",
    "earned_interest = compound_interest(principal=investment, time=years, rate=0.07)\n",
    "\n",
    "print(f\"The compound interest over {years} years for an investment of {investment} € is {round(earned_interest, 2)} €.\")"
   ]
  },
  {
   "cell_type": "code",
   "execution_count": 69,
   "id": "75cab215",
   "metadata": {},
   "outputs": [],
   "source": [
    "# Cell 7: Defining a Class\n",
    "# A class is a blueprint for creating objects.\n",
    "# The BankAccount class models a real-world bank account.\n",
    "\n",
    "class BankAccount:\n",
    "    # The __init__ method is the constructor. It's called when a new object is created.\n",
    "    # `self` refers to the instance of the class (the object being created).\n",
    "    # `balance = 0` sets a default initial balance if none is provided.\n",
    "    def __init__(self, balance=0):\n",
    "        self.balance = balance\n",
    "    \n",
    "    # A method to deposit money. It updates the balance attribute.\n",
    "    def deposit(self, amount):\n",
    "        self.balance += amount\n",
    "        print(f\"you've deposited {amount}$. New balance: {self.balance} $.\")\n",
    "    \n",
    "    # A method to withdraw money. It includes a check for insufficient funds.\n",
    "    def withdraw(self, amount):\n",
    "        if amount > self.balance:\n",
    "            print(\"Insufficient balance.\")\n",
    "        else:\n",
    "            self.balance -= amount\n",
    "            print(f\"You've withdrawn {amount} €. New balance: {self.balance} €.\")\n",
    "    \n",
    "    # A method to display the current balance.\n",
    "    def display_balance(self):\n",
    "        print(f\"Your balance is {self.balance} €.\")"
   ]
  },
  {
   "cell_type": "code",
   "execution_count": 70,
   "id": "d573f7c5",
   "metadata": {},
   "outputs": [
    {
     "name": "stdout",
     "output_type": "stream",
     "text": [
      "Your balance is 500 €.\n",
      "Your balance is 2000 €.\n",
      "you've deposited 1000$. New balance: 1500 $.\n",
      "You've withdrawn 300 €. New balance: 1200 €.\n",
      "Your balance is 1200 €.\n",
      "Your balance is 2000 €.\n",
      "you've deposited 1000$. New balance: 3000 $.\n",
      "You've withdrawn 1500 €. New balance: 1500 €.\n",
      "Your balance is 1200 €.\n",
      "Your balance is 1500 €.\n"
     ]
    }
   ],
   "source": [
    "# Cell 8: Creating and Using Objects (Instances of the Class)\n",
    "# This shows how to create objects from the BankAccount class and use their methods.\n",
    "\n",
    "# Create two separate instances (objects) of the BankAccount class.\n",
    "account1 = BankAccount(500)\n",
    "account2 = BankAccount(2000)\n",
    "\n",
    "# Call methods on each specific object.\n",
    "account1.display_balance()\n",
    "account2.display_balance()\n",
    "\n",
    "account1.deposit(1000)\n",
    "account1.withdraw(300)\n",
    "\n",
    "account1.display_balance()\n",
    "account2.display_balance()\n",
    "\n",
    "account2.deposit(1000)\n",
    "account2.withdraw(1500)\n",
    "\n",
    "account1.display_balance()\n",
    "account2.display_balance()"
   ]
  },
  {
   "cell_type": "code",
   "execution_count": 71,
   "id": "d2f1c2e3",
   "metadata": {},
   "outputs": [],
   "source": [
    "# Cell 9: Defining a Portfolio Class\n",
    "# This class provides a structured way to manage financial assets.\n",
    "\n",
    "class Portfolio:\n",
    "    # The constructor initializes a dictionary to hold the assets.\n",
    "    def __init__(self):\n",
    "        self.assets = {}\n",
    "        \n",
    "    # Method to add a new asset to the portfolio.\n",
    "    def add_asset(self, asset_name, quantity, unit_value):\n",
    "        if asset_name in self.assets:\n",
    "            # If the asset already exists, update its quantity and value.\n",
    "            self.assets[asset_name]['quantity'] += quantity\n",
    "            self.assets[asset_name]['unit_value'] = unit_value\n",
    "        else:\n",
    "            # If it's a new asset, add it to the dictionary.\n",
    "            self.assets[asset_name] = {'quantity': quantity, 'unit_value': unit_value}\n",
    "            \n",
    "    # Method to remove an asset from the portfolio.\n",
    "    def remove_asset(self, asset_name):\n",
    "        if asset_name in self.assets:\n",
    "            del self.assets[asset_name]\n",
    "        else:\n",
    "            print(f\"{asset_name} not found in the portfolio.\")\n",
    "            \n",
    "    # Method to update an existing asset's details.\n",
    "    def update_asset(self, asset_name, new_quantity, new_unit_value):\n",
    "        if asset_name in self.assets:\n",
    "            self.assets[asset_name]['quantity'] = new_quantity\n",
    "            self.assets[asset_name]['unit_value'] = new_unit_value\n",
    "        else:\n",
    "            print(f\"{asset_name} not found in the portfolio.\")\n",
    "            \n",
    "    # Method to calculate the total value of all assets in the portfolio.\n",
    "    def get_total_value(self):\n",
    "        total_value = 0\n",
    "        # Loop through each asset and its details in the dictionary.\n",
    "        for asset, details in self.assets.items():\n",
    "            # Add the value of each asset (quantity * unit_value) to the total.\n",
    "            total_value += details['quantity'] * details['unit_value']\n",
    "        return total_value"
   ]
  },
  {
   "cell_type": "code",
   "execution_count": 72,
   "id": "7a468f82",
   "metadata": {},
   "outputs": [
    {
     "name": "stdout",
     "output_type": "stream",
     "text": [
      "The total portfolio value is 8320 $.\n"
     ]
    }
   ],
   "source": [
    "# Cell 10: Using the Portfolio Class\n",
    "# This code block demonstrates the practical use of the Portfolio class methods.\n",
    "\n",
    "# Create an object from the Portfolio class.\n",
    "my_portfolio = Portfolio()\n",
    "\n",
    "# Use the `add_asset` method to populate the portfolio.\n",
    "my_portfolio.add_asset(\"AAPL\", 10, 150)\n",
    "my_portfolio.add_asset(\"GOOG\", 5, 1000)\n",
    "my_portfolio.add_asset(\"TSLA\", 8, 800)\n",
    "\n",
    "# Use the `update_asset` method to change an asset's details.\n",
    "my_portfolio.update_asset(\"AAPL\", 12, 160)\n",
    "\n",
    "# Use the `remove_asset` method to delete an asset.\n",
    "my_portfolio.remove_asset(\"GOOG\")\n",
    "\n",
    "# Use the `get_total_value` method to calculate and print the total portfolio value.\n",
    "total_value = my_portfolio.get_total_value()\n",
    "print(f\"The total portfolio value is {total_value} $.\")"
   ]
  }
 ],
 "metadata": {
  "kernelspec": {
   "display_name": "base",
   "language": "python",
   "name": "python3"
  },
  "language_info": {
   "codemirror_mode": {
    "name": "ipython",
    "version": 3
   },
   "file_extension": ".py",
   "mimetype": "text/x-python",
   "name": "python",
   "nbconvert_exporter": "python",
   "pygments_lexer": "ipython3",
   "version": "3.13.5"
  }
 },
 "nbformat": 4,
 "nbformat_minor": 5
}
