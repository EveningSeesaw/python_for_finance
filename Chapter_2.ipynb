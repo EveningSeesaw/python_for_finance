{
 "cells": [
  {
   "cell_type": "code",
   "execution_count": 45,
   "id": "0a0e413f",
   "metadata": {},
   "outputs": [
    {
     "name": "stdout",
     "output_type": "stream",
     "text": [
      "Balance after 1 months 3200 $\n",
      "Balance after 2 months 3400 $\n",
      "Balance after 3 months 3600 $\n",
      "Balance after 4 months 3800 $\n",
      "Balance after 5 months 4000 $\n",
      "Balance after 6 months 4200 $\n",
      "Balance after 7 months 4400 $\n",
      "Balance after 8 months 4600 $\n",
      "Balance after 9 months 4800 $\n",
      "Balance after 10 months 5000 $\n",
      "Balance after 11 months 5200 $\n",
      "Balance after 12 months 5400 $\n",
      "My account balance at the end of the year is: 5400 $\n"
     ]
    }
   ],
   "source": [
    "# Cell 1: Monthly Savings Calculation\n",
    "# This code simulates a monthly savings plan over one year.\n",
    "\n",
    "balance = 3000\n",
    "salary = 2000\n",
    "expenses = 1800\n",
    "\n",
    "for i in range(12):\n",
    "    # Calculate the new balance by adding salary and subtracting expenses\n",
    "    balance = balance + salary - expenses\n",
    "    \n",
    "    # Print the balance after each month. 'i + 1' gives us the correct month number.\n",
    "    print(\"Balance after\", i + 1, \"months\", balance, \"$\")\n",
    "\n",
    "print(\"My account balance at the end of the year is:\", balance, \"$\")"
   ]
  },
  {
   "cell_type": "code",
   "execution_count": 46,
   "id": "2ebf7fa7",
   "metadata": {},
   "outputs": [
    {
     "name": "stdout",
     "output_type": "stream",
     "text": [
      "It will take 18 years to double the investment.\n"
     ]
    }
   ],
   "source": [
    "# Cell 2: Investment Doubling Time (Compound Interest)\n",
    "# This code calculates how many years it takes for an investment to double\n",
    "\n",
    "initial_investment = 10000\n",
    "years = 0\n",
    "int_rate = 0.04\n",
    "current_value = initial_investment\n",
    "\n",
    "# The 'while' loop continues as long as the current value is less than double the initial investment.\n",
    "while current_value < initial_investment * 2:\n",
    "     # Compound interest calculation: the investment grows by the interest rate each year.\n",
    "    current_value = current_value * (1 + int_rate)\n",
    "    \n",
    "    # Increment the year counter by 1 for each loop iteration.\n",
    "    years += 1\n",
    "\n",
    "print(\"It will take\", years, \"years to double the investment.\")\n"
   ]
  },
  {
   "cell_type": "code",
   "execution_count": 47,
   "id": "8212aef3",
   "metadata": {},
   "outputs": [
    {
     "name": "stdout",
     "output_type": "stream",
     "text": [
      "Hold\n"
     ]
    }
   ],
   "source": [
    "# Cell 3: Conditional Logic for Stock Trading\n",
    "# This code uses an 'if-elif-else' chain to make a trading decision based on a stock's price.\n",
    "\n",
    "\n",
    "stock_price = 5050\n",
    "\n",
    "# Check the first condition: Is the price 3000 or less?\n",
    "if stock_price <= 3000:\n",
    "    print(\"Buy\")\n",
    "# If the first is false, check the next one: Is the price between 3000 and 5000?\n",
    "elif stock_price > 3000 and stock_price <= 5000:\n",
    "    print(\"Sell Half\")\n",
    "# If the above are false, check this one: Is the price less than 6000?\n",
    "# Since the previous condition failed, we know the price must be greater than 5000.\n",
    "elif stock_price < 6000:\n",
    "    print(\"Hold\")\n",
    "# If all previous conditions are false, execute this final block.\n",
    "else:\n",
    "    print(\"sell all\")"
   ]
  },
  {
   "cell_type": "code",
   "execution_count": 48,
   "id": "67eb9792",
   "metadata": {},
   "outputs": [
    {
     "name": "stdout",
     "output_type": "stream",
     "text": [
      "text is neither hello nor hi\n"
     ]
    }
   ],
   "source": [
    "# Cell 4: Conditional String Check\n",
    "\n",
    "text = \"nice\"\n",
    "if text == \"hello\" or text == \"hi\":\n",
    "    print(\"text is hello or hi\")\n",
    "# The 'elif' block is executed only if the 'if' block is false.\n",
    "# Since the first condition failed, we know the text is not \"hello\" or \"hi\".\n",
    "# This 'elif' condition (text != \"hello\") will always be true in this case.\n",
    "elif text != \"hello\":\n",
    "    print(\"text is neither hello nor hi\")\n"
   ]
  },
  {
   "cell_type": "code",
   "execution_count": 49,
   "id": "11a04252",
   "metadata": {},
   "outputs": [
    {
     "name": "stdout",
     "output_type": "stream",
     "text": [
      "You will need 27 months to reach your savings goal of $15000.\n",
      "Total savings after 27 months is $15200\n"
     ]
    }
   ],
   "source": [
    "# Cell 5: Savings Goal with a Conditional Raise\n",
    "# This code calculates how many months it takes to reach a savings goal,\n",
    "# with a condition for a one-time raise.\n",
    "\n",
    "savings_goal = 15000\n",
    "monthly_savings = 400\n",
    "month_of_raise = 6\n",
    "raise_amount = 200\n",
    "\n",
    "months_required = 0\n",
    "total_savings = 0\n",
    "\n",
    "# Loop until the total savings goal is met.\n",
    "while total_savings < savings_goal:\n",
    "    # ⚠️ NOTE: The original code had a logical error here, comparing 'monthly_savings' to 'month_of_raise'.\n",
    "    # This corrected 'if' statement checks if the current month matches the month of the raise.\n",
    "    # We use 'months_required + 1' to get the current month number.\n",
    "    if months_required + 1 == month_of_raise:\n",
    "        monthly_savings += raise_amount\n",
    "    \n",
    "    # Add the current month's savings to the total.\n",
    "    total_savings += monthly_savings\n",
    "    \n",
    "    # Increment the month counter.\n",
    "    months_required += 1\n",
    "    \n",
    "# Use an f-string to print the final result with variables embedded in the text.\n",
    "print(f\"You will need {months_required} months to reach your savings goal of ${savings_goal}.\")\n",
    "print(f\"Total savings after {months_required} months is ${total_savings}\")\n"
   ]
  },
  {
   "cell_type": "code",
   "execution_count": 50,
   "id": "5557d9d4",
   "metadata": {},
   "outputs": [
    {
     "name": "stdout",
     "output_type": "stream",
     "text": [
      "It will take 20 years to reach the capitalization goal at a 5% annual interest rate\n"
     ]
    }
   ],
   "source": [
    "# Cell 6: Simple Interest Calculation with a 'while' loop\n",
    "\n",
    "\n",
    "initial_investment = 1000\n",
    "capitalization_goal = 2000\n",
    "annual_int_rate = 0.05\n",
    "total_earnings =  initial_investment\n",
    "years = 0\n",
    "\n",
    "\n",
    "while total_earnings < capitalization_goal:\n",
    "    total_earnings += initial_investment * annual_int_rate\n",
    "    years += 1\n",
    "print(f\"It will take {years} years to reach the capitalization goal at a {int(annual_int_rate * 100)}% annual interest rate\")"
   ]
  },
  {
   "cell_type": "code",
   "execution_count": 51,
   "id": "f5b17c83",
   "metadata": {},
   "outputs": [
    {
     "name": "stdout",
     "output_type": "stream",
     "text": [
      "It will take 12 years to reach the capitalization goal at a 6% annual interest rate\n"
     ]
    }
   ],
   "source": [
    "# Cell 7: Compound Interest Calculation with a 'while' loop\n",
    "\n",
    "annual_int_rate = 0.06\n",
    "total_earnings = initial_investment\n",
    "years = 0\n",
    "\n",
    "while total_earnings < capitalization_goal:\n",
    "    total_earnings += total_earnings * annual_int_rate\n",
    "    years += 1\n",
    "print(f\"It will take {years} years to reach the capitalization goal at a {int(annual_int_rate * 100)}% annual interest rate\")"
   ]
  },
  {
   "cell_type": "code",
   "execution_count": 52,
   "id": "724ceea3",
   "metadata": {},
   "outputs": [
    {
     "name": "stdout",
     "output_type": "stream",
     "text": [
      "At a 2% annual interest rate, it will take 36 years to reach the capitalization goal of $2000\n",
      "At a 3% annual interest rate, it will take 24 years to reach the capitalization goal of $2000\n",
      "At a 4% annual interest rate, it will take 18 years to reach the capitalization goal of $2000\n",
      "At a 5% annual interest rate, it will take 15 years to reach the capitalization goal of $2000\n",
      "At a 6% annual interest rate, it will take 12 years to reach the capitalization goal of $2000\n",
      "At a 7% annual interest rate, it will take 11 years to reach the capitalization goal of $2000\n"
     ]
    }
   ],
   "source": [
    "# Cell 8: Compound Interest for a Range of Rates\n",
    "\n",
    "# The 'for' loop will generate integers from 2 to 7 (8 is exclusive).\n",
    "for rate in range(2, 8):\n",
    "    # Convert the integer rate to a decimal for calculation (e.g., 2 becomes 0.02).\n",
    "    annual_int_rate = rate/100\n",
    "    \n",
    "    # Reset the total earnings and years for each new interest rate.\n",
    "    total_earnings = initial_investment\n",
    "    years = 0\n",
    "    \n",
    "    # This 'while' loop is the same compound interest logic as in the previous cell.\n",
    "    while total_earnings < capitalization_goal:\n",
    "        total_earnings += total_earnings*annual_int_rate\n",
    "        years += 1\n",
    "        \n",
    "    # Print the result for the current interest rate.\n",
    "    print(f\"At a {rate}% annual interest rate, it will take {years} years to reach the capitalization goal of ${capitalization_goal}\")"
   ]
  }
 ],
 "metadata": {
  "kernelspec": {
   "display_name": "base",
   "language": "python",
   "name": "python3"
  },
  "language_info": {
   "codemirror_mode": {
    "name": "ipython",
    "version": 3
   },
   "file_extension": ".py",
   "mimetype": "text/x-python",
   "name": "python",
   "nbconvert_exporter": "python",
   "pygments_lexer": "ipython3",
   "version": "3.13.5"
  }
 },
 "nbformat": 4,
 "nbformat_minor": 5
}
